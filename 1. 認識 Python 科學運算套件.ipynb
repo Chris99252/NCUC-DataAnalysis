{
 "metadata": {
  "language_info": {
   "codemirror_mode": {
    "name": "ipython",
    "version": 3
   },
   "file_extension": ".py",
   "mimetype": "text/x-python",
   "name": "python",
   "nbconvert_exporter": "python",
   "pygments_lexer": "ipython3",
   "version": "3.7.3-final"
  },
  "orig_nbformat": 2,
  "kernelspec": {
   "name": "Python 3.7.3 64-bit",
   "display_name": "Python 3.7.3 64-bit",
   "metadata": {
    "interpreter": {
     "hash": "677d7971d29bfe7dbed1d65047d261cd7ca16a86eb0b7071c6dafe437f6fc28b"
    }
   }
  }
 },
 "nbformat": 4,
 "nbformat_minor": 2,
 "cells": [
  {
   "cell_type": "code",
   "execution_count": 2,
   "metadata": {
    "tags": []
   },
   "outputs": [
    {
     "output_type": "stream",
     "name": "stdout",
     "text": "[1.86411, 3.1068499999999997, 6.213699999999999, 13.110907000000001, 26.21870715]\n"
    }
   ],
   "source": [
    "# 公里換英里\n",
    "# 迴圈\n",
    "\n",
    "dist_in_km = [3, 5, 10, 21.1, 42.195]\n",
    "dist_in_mile = []\n",
    "\n",
    "for d in dist_in_km:\n",
    "  dist_in_mile.append(d * 0.62137)\n",
    "\n",
    "print(dist_in_mile)"
   ]
  },
  {
   "cell_type": "code",
   "execution_count": 3,
   "metadata": {
    "tags": []
   },
   "outputs": [
    {
     "output_type": "stream",
     "name": "stdout",
     "text": "[1.86411, 3.1068499999999997, 6.213699999999999, 13.110907000000001, 26.21870715]\n"
    }
   ],
   "source": [
    "# arrary 處理\n",
    "\n",
    "dist_in_km = [3, 5, 10, 21.1, 42.195]\n",
    "dist_in_mile = [d * 0.62137 for d in dist_in_km]\n",
    "print(dist_in_mile)"
   ]
  },
  {
   "cell_type": "code",
   "execution_count": 4,
   "metadata": {
    "tags": []
   },
   "outputs": [
    {
     "output_type": "stream",
     "name": "stdout",
     "text": "[1.86411, 3.1068499999999997, 6.213699999999999, 13.110907000000001, 26.21870715]\n"
    }
   ],
   "source": [
    "# lambda expression 與 map() 函數\n",
    "\n",
    "dist_in_km = [3, 5, 10, 21.1, 42.195]\n",
    "dist_in_mile = list(map(lambda d : d * 0.62137, dist_in_km))\n",
    "print(dist_in_mile)"
   ]
  },
  {
   "cell_type": "code",
   "execution_count": 5,
   "metadata": {
    "tags": []
   },
   "outputs": [
    {
     "output_type": "stream",
     "name": "stdout",
     "text": "[ 1.86411     3.10685     6.2137     13.110907   26.21870715]\n"
    }
   ],
   "source": [
    "# NumPy to the Rescue\n",
    "# NumPy，全名為 Numerical Python 創建一種稱為 ndarray 的型別\n",
    "\n",
    "import numpy as np\n",
    "\n",
    "dist_in_km = [3, 5, 10, 21.1, 42.195]\n",
    "dist_in_km = np.array(dist_in_km)\n",
    "dist_in_mile = dist_in_km * 0.62137\n",
    "print(dist_in_mile)"
   ]
  },
  {
   "cell_type": "code",
   "execution_count": 7,
   "metadata": {
    "tags": []
   },
   "outputs": [
    {
     "output_type": "stream",
     "name": "stdout",
     "text": "<class 'list'>\n<class 'numpy.ndarray'>\n"
    }
   ],
   "source": [
    "# np.array() ：將原生 list 轉換為 ndarray\n",
    "\n",
    "dist_in_km = [3, 5, 10, 21.1, 42.195]\n",
    "print(type(dist_in_km))\n",
    "\n",
    "dist_in_km = np.array(dist_in_km)\n",
    "print(type(dist_in_km))"
   ]
  },
  {
   "cell_type": "code",
   "execution_count": 13,
   "metadata": {
    "tags": []
   },
   "outputs": [
    {
     "output_type": "stream",
     "name": "stdout",
     "text": "range(0, 8)\n[0 1 2 3 4 5 6 7]\n[1 2 3 4 5 6 7]\n[1 3 5 7 9]\n"
    }
   ],
   "source": [
    "# np.arange(low, high, by) ：與 range() 函數用法相同，只是產出的 iterable 型別為 ndarray 而非原生 list\n",
    "\n",
    "print(np.arange(8)) # high 不包含\n",
    "print(np.arange(1, 8)) # low 包含、high 不包含\n",
    "print(np.arange(1, 10, 2))"
   ]
  },
  {
   "cell_type": "code",
   "execution_count": 21,
   "metadata": {
    "tags": []
   },
   "outputs": [
    {
     "output_type": "stream",
     "name": "stdout",
     "text": "[ 1.  2.  3.  4.  5.  6.  7.  8.  9. 10.]\nfloat64\n\n\n[ 1  2  3  4  5  6  7  8  9 10]\nint32\n"
    }
   ],
   "source": [
    "# np.linspace(start, stop, num, dtype) ：在介於 start（包含）與 stop（包含）之間產生長度為 num 的 ndarray 由於是等距間隔故預設的型別設為浮點數，但是不用擔心，型別可以自由調整\n",
    "\n",
    "arr = np.linspace(1, 10, 10)\n",
    "print(arr)\n",
    "print(arr.dtype)\n",
    "print(\"\\n\")\n",
    "arr = arr.astype(int)\n",
    "print(arr)\n",
    "print(arr.dtype)\n"
   ]
  },
  {
   "cell_type": "code",
   "execution_count": 20,
   "metadata": {
    "tags": []
   },
   "outputs": [
    {
     "output_type": "stream",
     "name": "stdout",
     "text": "<class 'float'>\n<class 'str'>\n<class 'bool'>\n[42.195, 'km', True]\n\n\n<class 'numpy.str_'>\n<class 'numpy.str_'>\n<class 'numpy.str_'>\n['42.195' 'km' 'True']\n"
    }
   ],
   "source": [
    "# ndarray 的特質 :與原生 list 很不同的特性就是一個 ndarray 中僅能儲存單一種型別\n",
    "\n",
    "lst = [42.195, 'km', True]\n",
    "\n",
    "for i in lst:\n",
    "  print(type(i))\n",
    "\n",
    "print(lst)\n",
    "\n",
    "arr = np.array(lst)\n",
    "\n",
    "for i in arr:\n",
    "  print(type(i))\n",
    "  \n",
    "print(lst)"
   ]
  },
  {
   "cell_type": "code",
   "execution_count": 32,
   "metadata": {
    "tags": []
   },
   "outputs": [
    {
     "output_type": "stream",
     "name": "stdout",
     "text": "87\n"
    }
   ],
   "source": [
    "# 利用 .reshape 方法建立不同維度 ndarray\n",
    "\n",
    "# 維度 0：純量（scalar）\n",
    "\n",
    "my_scalar = 87\n",
    "print(my_scalar)"
   ]
  },
  {
   "cell_type": "code",
   "execution_count": 36,
   "metadata": {
    "tags": []
   },
   "outputs": [
    {
     "output_type": "stream",
     "name": "stdout",
     "text": "column vector　欄向量 mx1 :\n\n[[8]\n [7]]\n\n\n[[8]\n [7]\n [6]]\n\n\nrow vector　列向量 1xn :\n\n[[8 7]]\n\n\n[[8 7 6]]\n"
    }
   ],
   "source": [
    "# 維度 1：向量（vector）: 向量是一個欄（column）or 列（row）的純量集合\n",
    "# # column vector vs row vector\n",
    "\n",
    "print(\"column vector　欄向量 mx1 :\\n\")\n",
    "uc = np.array([8, 7]).reshape(2, 1)\n",
    "vc = np.array([8, 7, 6]).reshape(3, 1)\n",
    "print(uc)\n",
    "print(\"\\n\")\n",
    "print(vc)\n",
    "\n",
    "print(\"\\n\")\n",
    "print(\"row vector　列向量 1xn :\\n\")\n",
    "\n",
    "ur = np.array([8, 7]).reshape(1, 2)\n",
    "vr = np.array([8, 7, 6]).reshape(1, 3)\n",
    "print(ur)\n",
    "print(\"\\n\")\n",
    "print(vr)"
   ]
  },
  {
   "cell_type": "code",
   "execution_count": 37,
   "metadata": {
    "tags": []
   },
   "outputs": [
    {
     "output_type": "stream",
     "name": "stdout",
     "text": "[[ 1  2  3]\n [ 4  5  6]\n [ 7  8  9]\n [10 11 12]]\n"
    }
   ],
   "source": [
    "# 維度 2：矩陣（matrix）\n",
    "# 矩陣是兩個維度，列與欄的純量集合，我們習慣稱一個矩陣的外觀為 m x n，意思是有 m 個列（rows）n 個欄（columns）\n",
    "\n",
    "my_mat = np.arange(1, 13).reshape(4, 3) # 4 x 3 的矩陣\n",
    "print(my_mat)"
   ]
  },
  {
   "cell_type": "code",
   "execution_count": 39,
   "metadata": {
    "tags": []
   },
   "outputs": [
    {
     "output_type": "stream",
     "name": "stdout",
     "text": "[[[ 1  2  3]\n  [ 4  5  6]\n  [ 7  8  9]\n  [10 11 12]]\n\n [[13 14 15]\n  [16 17 18]\n  [19 20 21]\n  [22 23 24]]]\n"
    }
   ],
   "source": [
    "# 維度 3：張量（tensor）\n",
    "\n",
    "# 張量是三個維度的純量集合，張量的外觀如果為 (2, 4, 3) 可以想成有 2 個 4 x 3 的矩陣疊合\n",
    "\n",
    "my_tensor = np.arange(1, 25).reshape(2, 4, 3)\n",
    "print(my_tensor)"
   ]
  },
  {
   "cell_type": "code",
   "execution_count": null,
   "metadata": {},
   "outputs": [],
   "source": []
  }
 ]
}
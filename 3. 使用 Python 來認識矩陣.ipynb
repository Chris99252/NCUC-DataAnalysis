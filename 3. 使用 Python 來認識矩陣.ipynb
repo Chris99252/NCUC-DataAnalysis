{
 "metadata": {
  "language_info": {
   "codemirror_mode": {
    "name": "ipython",
    "version": 3
   },
   "file_extension": ".py",
   "mimetype": "text/x-python",
   "name": "python",
   "nbconvert_exporter": "python",
   "pygments_lexer": "ipython3",
   "version": "3.7.3-final"
  },
  "orig_nbformat": 2,
  "kernelspec": {
   "name": "Python 3.7.3 64-bit",
   "display_name": "Python 3.7.3 64-bit",
   "metadata": {
    "interpreter": {
     "hash": "677d7971d29bfe7dbed1d65047d261cd7ca16a86eb0b7071c6dafe437f6fc28b"
    }
   }
  }
 },
 "nbformat": 4,
 "nbformat_minor": 2,
 "cells": [
  {
   "cell_type": "code",
   "execution_count": 1,
   "metadata": {
    "tags": []
   },
   "outputs": [
    {
     "output_type": "stream",
     "name": "stdout",
     "text": "[[2 3 4 5]\n [3 4 5 6]\n [4 5 6 7]]\n"
    }
   ],
   "source": [
    "# Matrix 或 ndarray？\n",
    "# 矩陣指的是外觀為 m x n 的二維資料，位於矩陣中的元素則以 ij 表示\n",
    "\n",
    "import numpy as np\n",
    "\n",
    "A = np.array([\n",
    "    [1+1, 1+2, 1+3, 1+4],\n",
    "    [2+1, 2+2, 2+3, 2+4],\n",
    "    [3+1, 3+2, 3+3, 3+4]\n",
    "])\n",
    "print(A)"
   ]
  },
  {
   "cell_type": "code",
   "execution_count": 2,
   "metadata": {
    "tags": []
   },
   "outputs": [
    {
     "output_type": "stream",
     "name": "stdout",
     "text": "[[2 3 4 5]\n [3 4 5 6]\n [4 5 6 7]]\n<class 'numpy.matrix'>\n------\n[[2 3 4 5]\n [3 4 5 6]\n [4 5 6 7]]\n<class 'numpy.ndarray'>\n"
    }
   ],
   "source": [
    "A = np.mat([\n",
    "    [1+1, 1+2, 1+3, 1+4],\n",
    "    [2+1, 2+2, 2+3, 2+4],\n",
    "    [3+1, 3+2, 3+3, 3+4]\n",
    "])\n",
    "\n",
    "B = np.array([\n",
    "    [1+1, 1+2, 1+3, 1+4],\n",
    "    [2+1, 2+2, 2+3, 2+4],\n",
    "    [3+1, 3+2, 3+3, 3+4]\n",
    "])\n",
    "print(A)\n",
    "print(type(A))\n",
    "print(\"------\")\n",
    "print(B)\n",
    "print(type(B))"
   ]
  },
  {
   "cell_type": "code",
   "execution_count": 7,
   "metadata": {
    "tags": []
   },
   "outputs": [
    {
     "output_type": "stream",
     "name": "stdout",
     "text": "[[25 56 36]\n [30 48 46]\n [33  6 30]\n [15 15  2]]\n[[25 56 36]\n [30 48 46]\n [33  6 30]\n [15 15  2]]\nTrue\n\n\n[[ -1 -10  -8]\n [ 10  10  30]\n [-27   6 -10]\n [ 15  15   2]]\n[[  1  10   8]\n [-10 -10 -30]\n [ 27  -6  10]\n [-15 -15  -2]]\nFalse\n"
    }
   ],
   "source": [
    "# 使用 ndarray！因為有著以下幾個優點：\n",
    "# 能夠表示向量、矩陣與張量\n",
    "# 許多 NumPy 的函數輸出型別為 ndarray 而非 matrix\n",
    "# ndarray 進行元素級別運算與線性代數運算時使用的運算符號有明顯區隔\n",
    "\n",
    "# 矩陣與矩陣的加減\n",
    "# 矩陣的加法具有交換律，而減法不具有交換律\n",
    "\n",
    "J = np.array([\n",
    "    [12, 23, 14],\n",
    "    [20, 29, 38],\n",
    "    [3, 6, 10],\n",
    "    [15, 15, 2]\n",
    "])\n",
    "\n",
    "F = np.array([\n",
    "    [13, 33, 22],\n",
    "    [10, 19, 8],\n",
    "    [30, 0, 20],\n",
    "    [0, 0, 0]\n",
    "])\n",
    "\n",
    "print(J+F)\n",
    "print(F+J)\n",
    "print(np.array_equal(J + F, F + J))\n",
    "\n",
    "print(\"\\n\")\n",
    "\n",
    "print(J-F)\n",
    "print(F-J)\n",
    "print(np.array_equal(J - F, F - J))"
   ]
  },
  {
   "cell_type": "code",
   "execution_count": 10,
   "metadata": {
    "tags": []
   },
   "outputs": [
    {
     "output_type": "stream",
     "name": "stdout",
     "text": "[[18 10]\n [-4  6]]\n[[18 10]\n [-4  6]]\nTrue\n"
    }
   ],
   "source": [
    "# 矩陣的加法與減法具有結合律。\n",
    "\n",
    "A = np.array([\n",
    "    [5, 3],\n",
    "    [0, 1]\n",
    "])\n",
    "\n",
    "B = np.array([\n",
    "    [4, -1],\n",
    "    [2, 3]\n",
    "])\n",
    "\n",
    "C = np.array([\n",
    "    [9, 8],\n",
    "    [-6, 2]\n",
    "])\n",
    "\n",
    "print((A+B)+C)\n",
    "print(A+(B+C))\n",
    "print(np.array_equal((A+B)+C, A+(B+C)))"
   ]
  },
  {
   "cell_type": "code",
   "execution_count": 11,
   "metadata": {
    "tags": []
   },
   "outputs": [
    {
     "output_type": "stream",
     "name": "stdout",
     "text": "[[ -8  12  16   0]\n [ 12  -4   4 -20]\n [-16   0  24  28]]\n"
    }
   ],
   "source": [
    "# 矩陣與純量相乘\n",
    "\n",
    "# 矩陣 A 與純量 k 相乘即將所有的 aij 都乘上 k\n",
    "\n",
    "A = np.array([\n",
    "    [2, -3, -4, 0],\n",
    "    [-3, 1, -1, 5],\n",
    "    [4, 0, -6, -7]\n",
    "])\n",
    "\n",
    "k = -4\n",
    "\n",
    "print(k * A)"
   ]
  },
  {
   "cell_type": "code",
   "execution_count": 15,
   "metadata": {
    "tags": []
   },
   "outputs": [
    {
     "output_type": "stream",
     "name": "stdout",
     "text": "[[ -3   7 -12]\n [  4   0  -4]\n [ 22  14 -25]]\n"
    }
   ],
   "source": [
    "# 並非任意兩個矩陣都能夠相乘，如果矩陣 A 的外觀為 m x n、矩陣 B 的外觀為 p x q，n 與 p 要相等， A * B 才能夠運算，A * B 的外觀為 m x q\n",
    "\n",
    "C = np.array([\n",
    "    [4, -3, 2],\n",
    "    [0, 1, -1],\n",
    "    [5, 4, 0]\n",
    "])\n",
    "\n",
    "D = np.array([\n",
    "    [2, 2, -5],\n",
    "    [3, 1, 0],\n",
    "    [-1, 1, 4]\n",
    "])\n",
    "\n",
    "print(C.dot(D))"
   ]
  },
  {
   "cell_type": "code",
   "execution_count": 17,
   "metadata": {
    "tags": []
   },
   "outputs": [
    {
     "output_type": "stream",
     "name": "stdout",
     "text": "[[ -3   7 -12]\n [  4   0  -4]\n [ 22  14 -25]]\n[[-17 -24   2]\n [ 12  -8   5]\n [ 16  20  -3]]\nFalse\n"
    }
   ],
   "source": [
    "# 多數的情況下，矩陣與矩陣相乘時不具有交換律。\n",
    "\n",
    "print(C.dot(D))\n",
    "print(D.dot(C))\n",
    "print(np.array_equal(C.dot(D), D.dot(C)))"
   ]
  },
  {
   "cell_type": "code",
   "execution_count": 20,
   "metadata": {
    "tags": []
   },
   "outputs": [
    {
     "output_type": "stream",
     "name": "stdout",
     "text": "[[114 182]\n [ 36  98]]\n[[114 182]\n [ 36  98]]\nTrue\n"
    }
   ],
   "source": [
    "# 矩陣相乘具有結合律。\n",
    "\n",
    "A = np.array([\n",
    "    [4, -1],\n",
    "    [2, 3]\n",
    "])\n",
    "\n",
    "B = np.array([\n",
    "    [5, 3],\n",
    "    [0, 1]\n",
    "])\n",
    "\n",
    "C = np.array([\n",
    "    [9, 8],\n",
    "    [-6, 2]\n",
    "])\n",
    "\n",
    "D = (A.dot(B)).dot(C)\n",
    "E = A.dot(B.dot(C))\n",
    "\n",
    "print(D)\n",
    "print(E)\n",
    "print(np.array_equal(D, E))"
   ]
  },
  {
   "cell_type": "code",
   "execution_count": 22,
   "metadata": {
    "tags": []
   },
   "outputs": [
    {
     "output_type": "stream",
     "name": "stdout",
     "text": "[[62 41]\n [10 31]]\n[[62 41]\n [10 31]]\nTrue\n"
    }
   ],
   "source": [
    "# 矩陣相乘具有分配律。\n",
    "\n",
    "D = A.dot(B + C)\n",
    "E = A.dot(B) + A.dot(C)\n",
    "\n",
    "print(D)\n",
    "print(E)\n",
    "print(np.array_equal(D, E))"
   ]
  },
  {
   "cell_type": "code",
   "execution_count": 23,
   "metadata": {
    "tags": []
   },
   "outputs": [
    {
     "output_type": "stream",
     "name": "stdout",
     "text": "[[1 0]\n [0 1]]\n[[1 0 0]\n [0 1 0]\n [0 0 1]]\n[[1 0 0 0]\n [0 1 0 0]\n [0 0 1 0]\n [0 0 0 1]]\n"
    }
   ],
   "source": [
    "# 特殊的矩陣\n",
    "\n",
    "# 單位矩陣（Identity Matrix）：以大寫英文字母 I 表示，NumPy 建立單位矩陣的方法是 np.eye() 取 I 與 Eye 諧音。是對角線上為 1 其餘位置為 0 的矩陣。\n",
    "\n",
    "print(np.eye(2, dtype = 'int')) # 2 x 2 的單位矩陣\n",
    "print(np.eye(3, dtype = 'int')) # 3 x 3 的單位矩陣\n",
    "print(np.eye(4, dtype = 'int')) # 4 x 4 的單位矩陣"
   ]
  },
  {
   "cell_type": "code",
   "execution_count": 25,
   "metadata": {
    "tags": []
   },
   "outputs": [
    {
     "output_type": "stream",
     "name": "stdout",
     "text": "[[ 4 -3  2]\n [ 0  1 -1]\n [ 5  4  0]]\n[[ 4 -3  2]\n [ 0  1 -1]\n [ 5  4  0]]\nTrue\n"
    }
   ],
   "source": [
    "# 矩陣與矩陣相乘在特殊情況下具有交換律，矩陣與單位矩陣相乘就符合這個情況。\n",
    "\n",
    "C = np.array([\n",
    "    [4, -3, 2],\n",
    "    [0, 1, -1],\n",
    "    [5, 4, 0]\n",
    "])\n",
    "\n",
    "D = np.eye(3, dtype=int)\n",
    "\n",
    "print(C.dot(D))\n",
    "print(D.dot(C))\n",
    "print(np.array_equal(C.dot(D), D.dot(C)))"
   ]
  },
  {
   "cell_type": "code",
   "execution_count": 28,
   "metadata": {
    "tags": []
   },
   "outputs": [
    {
     "output_type": "stream",
     "name": "stdout",
     "text": "[[1 2]\n [3 4]\n [5 6]]\n[[1 3 5]\n [2 4 6]]\n"
    }
   ],
   "source": [
    "# 轉置矩陣（Transpose）：將矩陣 A 中每個數字從 (m, n) 的位置轉換到 (n, m) 後所呈現的矩陣 B 即稱為矩陣 A 的轉置矩陣，NumPy 建立轉置矩陣是使用 ndarray 的 .T 屬性\n",
    "\n",
    "A = np.array([\n",
    "    [1, 2],\n",
    "    [3, 4],\n",
    "    [5, 6]\n",
    "])\n",
    "\n",
    "B = A.T\n",
    "\n",
    "print(A)\n",
    "print(B)"
   ]
  },
  {
   "cell_type": "code",
   "execution_count": 32,
   "metadata": {
    "tags": []
   },
   "outputs": [
    {
     "output_type": "stream",
     "name": "stdout",
     "text": "[[ 8 12 16]\n [10 14 18]]\n[[ 8 12 16]\n [10 14 18]]\nTrue\n"
    }
   ],
   "source": [
    "# 矩陣 A 與矩陣 B 相加後轉置，與先轉置矩陣 A 與矩陣 B 後再相加是相同的。\n",
    "\n",
    "A = np.array([\n",
    "    [1, 2],\n",
    "    [3, 4],\n",
    "    [5, 6]\n",
    "])\n",
    "\n",
    "B = np.array([\n",
    "    [7, 8],\n",
    "    [9, 10],\n",
    "    [11, 12]\n",
    "])\n",
    "\n",
    "C = (A + B).T\n",
    "D = A.T + B.T\n",
    "\n",
    "print(C)\n",
    "print(D)\n",
    "print(np.array_equal(C, D))"
   ]
  },
  {
   "cell_type": "code",
   "execution_count": 33,
   "metadata": {
    "tags": []
   },
   "outputs": [
    {
     "output_type": "stream",
     "name": "stdout",
     "text": "[[ 9 19 29]\n [10 20 30]\n [14 30 46]]\n[[ 9 19 29]\n [10 20 30]\n [14 30 46]]\nTrue\n"
    }
   ],
   "source": [
    "# 矩陣 A 與矩陣 B 相乘後轉置，與矩陣 B 轉置再乘矩陣 A 轉置的結果相同。\n",
    "\n",
    "A = np.array([\n",
    "    [1, 2],\n",
    "    [3, 4],\n",
    "    [5, 6]\n",
    "])\n",
    "\n",
    "B = np.array([\n",
    "    [1, 0, 2],\n",
    "    [4, 5, 6]\n",
    "])\n",
    "\n",
    "C = (A.dot(B)).T\n",
    "D = (B.T).dot(A.T)\n",
    "\n",
    "print(C)\n",
    "print(D)\n",
    "print(np.array_equal(C, D))"
   ]
  },
  {
   "cell_type": "code",
   "execution_count": 36,
   "metadata": {
    "tags": []
   },
   "outputs": [
    {
     "output_type": "stream",
     "name": "stdout",
     "text": "[[ 4 -7]\n [ 2 -3]]\n[[-1.5  3.5]\n [-1.   2. ]]\n[[1. 0.]\n [0. 1.]]\n"
    }
   ],
   "source": [
    "# 反矩陣（Inverse）：如果矩陣 M 是一個可逆矩陣（invertible），則矩陣 M 與其反矩陣相乘之後可以得到一個單位矩陣\n",
    "\n",
    "# NumPy 使用 np.linalg.inv() 函數可以計算反矩陣\n",
    "\n",
    "A = np.array([\n",
    "    [4, -7],\n",
    "    [2, -3]\n",
    "])\n",
    "\n",
    "A_inv = np.linalg.inv(A)\n",
    "\n",
    "print(A)\n",
    "print(A_inv)\n",
    "print(A.dot(A_inv))"
   ]
  },
  {
   "cell_type": "code",
   "execution_count": 48,
   "metadata": {
    "tags": []
   },
   "outputs": [
    {
     "output_type": "stream",
     "name": "stdout",
     "text": "矩陣 B 是不可逆矩陣 8x3=2x12\n[[0. 0.]\n [0. 0.]]\n矩陣 B 與其反矩陣相乘之後不是一個單位矩陣\n"
    }
   ],
   "source": [
    "# 並不是每個矩陣都具有反矩陣，以前述 2 x 2 的矩陣 M 為例，當 ad-bc 為零的時候，矩陣 M 就稱為不可逆（singular）矩陣，呼叫 np.linalg.inv() 會產生錯誤：\n",
    "\n",
    "B = np.array([\n",
    "    [8, 2],\n",
    "    [12, 3]\n",
    "])\n",
    "\n",
    "print('矩陣 B 是不可逆矩陣 8x3=2x12')\n",
    "\n",
    "B_inv = np.linalg.inv(B)\n",
    "print(B.dot(B_inv))\n",
    "\n",
    "print('矩陣 B 與其反矩陣相乘之後不是一個單位矩陣')"
   ]
  }
 ]
}
{
 "metadata": {
  "language_info": {
   "codemirror_mode": {
    "name": "ipython",
    "version": 3
   },
   "file_extension": ".py",
   "mimetype": "text/x-python",
   "name": "python",
   "nbconvert_exporter": "python",
   "pygments_lexer": "ipython3",
   "version": "3.7.3-final"
  },
  "orig_nbformat": 2,
  "kernelspec": {
   "name": "python3",
   "display_name": "Python 3"
  }
 },
 "nbformat": 4,
 "nbformat_minor": 2,
 "cells": [
  {
   "cell_type": "code",
   "execution_count": 125,
   "metadata": {},
   "outputs": [
    {
     "output_type": "stream",
     "name": "stdout",
     "text": [
      "['usps.h5']\n"
     ]
    }
   ],
   "source": [
    "import numpy as np\n",
    "import pandas as pd\n",
    "import os\n",
    "print(os.listdir(\".\\input\"))"
   ]
  },
  {
   "cell_type": "code",
   "execution_count": 126,
   "metadata": {},
   "outputs": [],
   "source": [
    "import h5py \n",
    "from functools import reduce\n",
    "\n",
    "def getUspDataSet(path):\n",
    "    with h5py.File(path, 'r') as hf:\n",
    "        train = hf.get('train')\n",
    "        x_Train = train.get(\"data\")[:]\n",
    "        y_Train = train.get(\"target\")[:]\n",
    "        test = hf.get('test')\n",
    "        x_Test = test.get(\"data\")[:]\n",
    "        y_Test = test.get(\"target\")[:]\n",
    "    return x_Train, y_Train, x_Test, y_Test"
   ]
  },
  {
   "cell_type": "code",
   "execution_count": 127,
   "metadata": {},
   "outputs": [
    {
     "output_type": "stream",
     "name": "stdout",
     "text": [
      "training set (16x16) : 7291 張\ntesting set (16x16) : 2007 張\n"
     ]
    }
   ],
   "source": [
    "x_Train, y_Train, x_Test, y_Test = getUspDataSet(\"./input/usps.h5\")\n",
    "print(\"training set (16x16) : %d 張\" % x_Train.shape[0])\n",
    "print(\"testing set (16x16) : %d 張\" % x_Test.shape[0])"
   ]
  },
  {
   "cell_type": "code",
   "execution_count": 128,
   "metadata": {},
   "outputs": [],
   "source": [
    "x_Train_data = pd.concat([pd.DataFrame(x_Train),pd.DataFrame(y_Train, columns=['digital'])], axis=1)\n",
    "x_Test_data = pd.concat([pd.DataFrame(x_Test),pd.DataFrame(y_Test, columns=['digital'])], axis=1)"
   ]
  },
  {
   "cell_type": "code",
   "execution_count": 129,
   "metadata": {},
   "outputs": [
    {
     "output_type": "execute_result",
     "data": {
      "text/plain": [
       "        0       1      2      3      4      5      6      7      8      9  \\\n",
       "0  1194.0  1005.0  731.0  658.0  652.0  556.0  664.0  645.0  542.0  644.0   \n",
       "1   359.0   264.0  198.0  166.0  200.0  160.0  170.0  147.0  166.0  177.0   \n",
       "\n",
       "    Total  \n",
       "0  7291.0  \n",
       "1  2007.0  "
      ],
      "text/html": "<div>\n<style scoped>\n    .dataframe tbody tr th:only-of-type {\n        vertical-align: middle;\n    }\n\n    .dataframe tbody tr th {\n        vertical-align: top;\n    }\n\n    .dataframe thead th {\n        text-align: right;\n    }\n</style>\n<table border=\"1\" class=\"dataframe\">\n  <thead>\n    <tr style=\"text-align: right;\">\n      <th></th>\n      <th>0</th>\n      <th>1</th>\n      <th>2</th>\n      <th>3</th>\n      <th>4</th>\n      <th>5</th>\n      <th>6</th>\n      <th>7</th>\n      <th>8</th>\n      <th>9</th>\n      <th>Total</th>\n    </tr>\n  </thead>\n  <tbody>\n    <tr>\n      <th>0</th>\n      <td>1194.0</td>\n      <td>1005.0</td>\n      <td>731.0</td>\n      <td>658.0</td>\n      <td>652.0</td>\n      <td>556.0</td>\n      <td>664.0</td>\n      <td>645.0</td>\n      <td>542.0</td>\n      <td>644.0</td>\n      <td>7291.0</td>\n    </tr>\n    <tr>\n      <th>1</th>\n      <td>359.0</td>\n      <td>264.0</td>\n      <td>198.0</td>\n      <td>166.0</td>\n      <td>200.0</td>\n      <td>160.0</td>\n      <td>170.0</td>\n      <td>147.0</td>\n      <td>166.0</td>\n      <td>177.0</td>\n      <td>2007.0</td>\n    </tr>\n  </tbody>\n</table>\n</div>"
     },
     "metadata": {},
     "execution_count": 129
    }
   ],
   "source": [
    "feature_names = np.array(['0', '1', '2', '3', '4', '5', '6', '7', '8', '9', 'Total'])\n",
    "\n",
    "table = np.zeros((2, 11))\n",
    "\n",
    "for i in range(11):\n",
    "    table[0][i] = x_Train_data[x_Train_data['digital'] == i].shape[0]\n",
    "    table[1][i] = x_Test_data[x_Test_data['digital'] == i].shape[0]\n",
    "    if i == 10:\n",
    "        table[0][i] = x_Train_data.shape[0]\n",
    "        table[1][i] = x_Test_data.shape[0]\n",
    "\n",
    "pd.DataFrame(table, columns=feature_names)"
   ]
  },
  {
   "cell_type": "code",
   "execution_count": null,
   "metadata": {},
   "outputs": [],
   "source": []
  }
 ]
}